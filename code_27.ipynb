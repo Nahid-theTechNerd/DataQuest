{
 "cells": [
  {
   "cell_type": "markdown",
   "id": "81d8fcaa",
   "metadata": {},
   "source": [
    "# DataScience "
   ]
  },
  {
   "cell_type": "code",
   "execution_count": 3,
   "id": "d0883d64",
   "metadata": {},
   "outputs": [],
   "source": [
    "opened_file = open('AppleStore.csv', encoding = 'utf8') "
   ]
  },
  {
   "cell_type": "markdown",
   "id": "059ad41b",
   "metadata": {},
   "source": [
    "This dataset contain info of Apple Store apps <br/>\n",
    "Source of this Dataset: Dataquest <br/>\n",
    "Download from : [click here](https://github.com/Nahid-theTechNerd/DataQuest/blob/master/AppleStore.csv)"
   ]
  },
  {
   "cell_type": "markdown",
   "id": "cdec3352",
   "metadata": {},
   "source": [
    "|  Column name  |  Description   |\n",
    "|:-------------:|:-------------: |\n",
    "| \"id\"          | App ID         |\n",
    "|\"track_name\"   | App name       |\n",
    "|\"size_bytes\"   | Size (in Bytes)|"
   ]
  },
  {
   "cell_type": "code",
   "execution_count": null,
   "id": "135054b9",
   "metadata": {},
   "outputs": [],
   "source": []
  }
 ],
 "metadata": {
  "kernelspec": {
   "display_name": "Python 3 (ipykernel)",
   "language": "python",
   "name": "python3"
  },
  "language_info": {
   "codemirror_mode": {
    "name": "ipython",
    "version": 3
   },
   "file_extension": ".py",
   "mimetype": "text/x-python",
   "name": "python",
   "nbconvert_exporter": "python",
   "pygments_lexer": "ipython3",
   "version": "3.11.3"
  }
 },
 "nbformat": 4,
 "nbformat_minor": 5
}
